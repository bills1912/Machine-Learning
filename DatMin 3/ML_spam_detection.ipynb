{
 "cells": [
  {
   "cell_type": "code",
   "execution_count": null,
   "source": [
    "import pandas as pd\r\n",
    "import numpy as np\r\n",
    "import nltk\r\n",
    "import re\r\n",
    "from nltk.corpus import stopwords\r\n",
    "from sklearn.model_selection import train_test_split, GridSearchCV, cross_validate\r\n",
    "from sklearn.metrics import accuracy_score\r\n",
    "from sklearn.feature_extraction.text import CountVectorizer, TfidfVectorizer, TfidfTransformer\r\n",
    "from sklearn.pipeline import Pipeline"
   ],
   "outputs": [],
   "metadata": {}
  },
  {
   "cell_type": "code",
   "execution_count": null,
   "source": [
    "df = pd.read_csv('spam.csv', encoding='latin-1')"
   ],
   "outputs": [],
   "metadata": {}
  },
  {
   "cell_type": "code",
   "execution_count": null,
   "source": [
    "df = df[['v2', 'v1']]\r\n",
    "df.rename(columns={'v2': 'messages', 'v1': 'category'}, inplace=True)"
   ],
   "outputs": [],
   "metadata": {}
  },
  {
   "cell_type": "code",
   "execution_count": null,
   "source": [
    "df.isnull().sum()"
   ],
   "outputs": [],
   "metadata": {}
  },
  {
   "cell_type": "code",
   "execution_count": null,
   "source": [
    "nltk.download('stopwords')"
   ],
   "outputs": [],
   "metadata": {}
  },
  {
   "cell_type": "code",
   "execution_count": null,
   "source": [
    "words = set(stopwords.words('english'))\r\n",
    "\r\n",
    "def cleaning_text(text):\r\n",
    "    text = text.lower()\r\n",
    "    text = re.sub(r'[^0-9a-zA-Z]', ' ', text)\r\n",
    "    text = \" \".join(word for word in text.split() if word not in words)\r\n",
    "    return text"
   ],
   "outputs": [],
   "metadata": {}
  },
  {
   "cell_type": "code",
   "execution_count": null,
   "source": [
    "df['clean_messages'] = df['messages'].apply(cleaning_text)\r\n",
    "df_clean = df[['clean_messages', 'category']]\r\n",
    "df_clean.head()"
   ],
   "outputs": [],
   "metadata": {}
  },
  {
   "cell_type": "code",
   "execution_count": null,
   "source": [
    "X = df_clean['clean_messages']\r\n",
    "y = df['category']\r\n",
    "\r\n",
    "X_train, X_test, y_train, y_test = train_test_split(X, y, test_size=0.25, random_state=42, shuffle=True, stratify=y)"
   ],
   "outputs": [],
   "metadata": {}
  },
  {
   "cell_type": "code",
   "execution_count": null,
   "source": [
    "from sklearn.naive_bayes import MultinomialNB\r\n",
    "\r\n",
    "multi = MultinomialNB()\r\n",
    "multi.get_params()"
   ],
   "outputs": [],
   "metadata": {}
  },
  {
   "cell_type": "code",
   "execution_count": null,
   "source": [
    "pipe_model = Pipeline([('vect', CountVectorizer()),\r\n",
    "                        ('tfidf', TfidfTransformer()),\r\n",
    "                        ('model', multi)\r\n",
    "                        ])\r\n",
    "model = pipe_model.fit(X_train, y_train)"
   ],
   "outputs": [],
   "metadata": {}
  },
  {
   "cell_type": "code",
   "execution_count": null,
   "source": [
    "prediction = model.predict(X_test)"
   ],
   "outputs": [],
   "metadata": {}
  },
  {
   "cell_type": "code",
   "execution_count": null,
   "source": [
    "acc = accuracy_score(prediction, y_test)\r\n",
    "print(\"Score of model: {}\".format(acc))"
   ],
   "outputs": [],
   "metadata": {}
  },
  {
   "cell_type": "code",
   "execution_count": null,
   "source": [
    "from yellowbrick.classifier import ConfusionMatrix\r\n",
    "\r\n",
    "cm = ConfusionMatrix(model)\r\n",
    "cm.fit(X_train, y_train)\r\n",
    "cm.score(X_test, y_test)\r\n",
    "cm.show()"
   ],
   "outputs": [],
   "metadata": {}
  },
  {
   "cell_type": "code",
   "execution_count": null,
   "source": [
    "from yellowbrick.classifier import ClassificationReport\r\n",
    "\r\n",
    "cr = ClassificationReport(model, support=True)\r\n",
    "cr.fit(X_train, y_train)\r\n",
    "cr.score(X_test, y_test)\r\n",
    "cr.show()"
   ],
   "outputs": [],
   "metadata": {}
  },
  {
   "cell_type": "code",
   "execution_count": null,
   "source": [
    "new_dataset = np.array(['make jahdf hjjd', 'jaha got yout u'])\r\n",
    "\r\n",
    "model.predict(new_dataset)"
   ],
   "outputs": [],
   "metadata": {}
  }
 ],
 "metadata": {
  "orig_nbformat": 4,
  "language_info": {
   "name": "python",
   "version": "3.8.2",
   "mimetype": "text/x-python",
   "codemirror_mode": {
    "name": "ipython",
    "version": 3
   },
   "pygments_lexer": "ipython3",
   "nbconvert_exporter": "python",
   "file_extension": ".py"
  },
  "kernelspec": {
   "name": "python3",
   "display_name": "Python 3.8.2 64-bit"
  },
  "interpreter": {
   "hash": "f23faf4bfe871c203c8bec80520af5927fc7cb1ae3bd834ddf554ee587ad1c05"
  }
 },
 "nbformat": 4,
 "nbformat_minor": 2
}
{
 "cells": [
  {
   "cell_type": "code",
   "execution_count": 1,
   "source": [
    "from newspaper import Article\r\n",
    "import string\r\n",
    "import nltk\r\n",
    "import warnings\r\n",
    "from sklearn.metrics.pairwise import cosine_similarity\r\n",
    "from sklearn.feature_extraction.text import CountVectorizer\r\n",
    "import numpy as np\r\n",
    "import random\r\n",
    "warnings.filterwarnings('ignore')"
   ],
   "outputs": [],
   "metadata": {}
  },
  {
   "cell_type": "code",
   "execution_count": 2,
   "source": [
    "nltk.download('punkt', quiet=True)"
   ],
   "outputs": [
    {
     "output_type": "execute_result",
     "data": {
      "text/plain": [
       "True"
      ]
     },
     "metadata": {},
     "execution_count": 2
    }
   ],
   "metadata": {}
  },
  {
   "cell_type": "code",
   "execution_count": 7,
   "source": [
    "artikel = Article('https://id.wikipedia.org/wiki/Pulau_Nias')\r\n",
    "artikel.download()\r\n",
    "artikel.parse()\r\n",
    "artikel.nlp()\r\n",
    "nias = artikel.text"
   ],
   "outputs": [],
   "metadata": {}
  },
  {
   "cell_type": "code",
   "execution_count": 8,
   "source": [
    "text = nias\r\n",
    "list_kalimat = nltk.sent_tokenize(text)"
   ],
   "outputs": [],
   "metadata": {}
  },
  {
   "cell_type": "code",
   "execution_count": 25,
   "source": [
    "def greetings_bot(text):\r\n",
    "\r\n",
    "    bot_greet = [\"Hello\", \"Hy\", \"Shalom\", \"Wellcome\", \"Hy there\", \"Ya'ahowu\"]\r\n",
    "    user_greet = [\"Hello\", \"Hai\", \"Shallom\", \"Ya'ahowu\"]\r\n",
    "\r\n",
    "    for kata in text.split():\r\n",
    "        if kata in user_greet:\r\n",
    "            return random.choice(bot_greet)"
   ],
   "outputs": [],
   "metadata": {}
  },
  {
   "cell_type": "code",
   "execution_count": 26,
   "source": [
    "def index_sort(var):\r\n",
    "    length = len(var)\r\n",
    "    index_list = list(range(0, length))\r\n",
    "\r\n",
    "    z = var\r\n",
    "    for i in range(length):\r\n",
    "        for j in range(length):\r\n",
    "            if z[index_list[i]] > z[index_list[j]]:\r\n",
    "                temp = index_list[i]\r\n",
    "                index_list[i] = index_list[j]\r\n",
    "                index_list[j] = temp\r\n",
    "    return index_list"
   ],
   "outputs": [],
   "metadata": {}
  },
  {
   "cell_type": "code",
   "execution_count": 27,
   "source": [
    "def response_bot(user_input):\r\n",
    "    user_input = user_input.lower()\r\n",
    "    list_kalimat.append(user_input)\r\n",
    "    bot_response = ''\r\n",
    "    cm = CountVectorizer().fit_transform(list_kalimat)\r\n",
    "    similarity_score = cosine_similarity(cm[-1], cm)\r\n",
    "    list_similarity_score = similarity_score.flatten()\r\n",
    "    index = index_sort(list_similarity_score)\r\n",
    "    index = index[1:]\r\n",
    "    response_flags = 0\r\n",
    "\r\n",
    "    d = 0\r\n",
    "    for b in range(len(index)):\r\n",
    "        if list_similarity_score[index[b]] > 0.0:\r\n",
    "            bot_response = bot_response + ' ' + list_kalimat[index[b]]\r\n",
    "            response_flags = 1\r\n",
    "            d += 1\r\n",
    "        if d > 2:\r\n",
    "            break\r\n",
    "    \r\n",
    "    if response_flags == 0:\r\n",
    "        bot_response = bot_response + ' ' + \"Sorry, the answer is not available or the question is invalid!\"\r\n",
    "    list_kalimat.remove(user_input)\r\n",
    "\r\n",
    "    return bot_response"
   ],
   "outputs": [],
   "metadata": {}
  },
  {
   "cell_type": "code",
   "execution_count": 33,
   "source": [
    "print(\"WELCONE TO WIKIPEDIA-NIAS. YOU CAN ASK ANY QUESTIONS ABOUT NIAS ISLAND\\n\")\r\n",
    "\r\n",
    "exit = [\"Close\", \"Quit\", \"Good bye\", \"Bye\", \"X\", \"Out\", \"Break\", \"Bye2\"]\r\n",
    "\r\n",
    "while(True):\r\n",
    "    user_input = input().capitalize()\r\n",
    "    print(\"User:\", user_input)\r\n",
    "\r\n",
    "    if user_input in exit:\r\n",
    "        print(\"Thank you for coming. See you soon!\")\r\n",
    "        break\r\n",
    "    else:\r\n",
    "        if greetings_bot(user_input) != None:\r\n",
    "            print(\"WikiBot:\", greetings_bot(user_input))\r\n",
    "        else:\r\n",
    "            print(\"WikiBot:\", response_bot(user_input))"
   ],
   "outputs": [
    {
     "output_type": "stream",
     "name": "stdout",
     "text": [
      "WELCONE TO WIKIPEDIA-NIAS. YOU CAN ASK ANY QUESTIONS ABOUT NIAS ISLAND\n",
      "\n",
      "User: Hy there\n",
      "WikiBot:  Sorry, the answer is not available or the question is invalid!\n",
      "User: Hello\n",
      "WikiBot: Hy there\n",
      "User: Close\n",
      "Thank you for coming. See you soon!\n"
     ]
    }
   ],
   "metadata": {}
  }
 ],
 "metadata": {
  "orig_nbformat": 4,
  "language_info": {
   "name": "python",
   "version": "3.8.2",
   "mimetype": "text/x-python",
   "codemirror_mode": {
    "name": "ipython",
    "version": 3
   },
   "pygments_lexer": "ipython3",
   "nbconvert_exporter": "python",
   "file_extension": ".py"
  },
  "kernelspec": {
   "name": "python3",
   "display_name": "Python 3.8.2 64-bit"
  },
  "interpreter": {
   "hash": "f23faf4bfe871c203c8bec80520af5927fc7cb1ae3bd834ddf554ee587ad1c05"
  }
 },
 "nbformat": 4,
 "nbformat_minor": 2
}
{
 "cells": [
  {
   "cell_type": "code",
   "execution_count": null,
   "source": [
    "from neuralintents import GenericAssistant\r\n",
    "import speech_recognition as sr\r\n",
    "import pyttsx3 as tts\r\n",
    "import sys"
   ],
   "outputs": [],
   "metadata": {}
  },
  {
   "cell_type": "code",
   "execution_count": null,
   "source": [
    "r = sr.Recognizer()\r\n",
    "speaker = tts.init()\r\n",
    "speaker.setProperty('rate', 150)"
   ],
   "outputs": [],
   "metadata": {}
  },
  {
   "cell_type": "code",
   "execution_count": null,
   "source": [
    "def ask_news():\r\n",
    "    global r\r\n",
    "\r\n",
    "    speaker.say(\"I'm fine ,babe. And you?\")\r\n",
    "    speaker.runAndWait()\r\n",
    "\r\n",
    "    done = False\r\n",
    "\r\n",
    "    while not done:\r\n",
    "        try:\r\n",
    "            with sr.Microphone() as mic:\r\n",
    "                r.adjust_for_ambient_noise(mic, duration=0.2)\r\n",
    "                audio = r.listen(mic)\r\n",
    "\r\n",
    "                news = r.recognize_google(audio)\r\n",
    "                news = news.lower()\r\n",
    "\r\n",
    "                speaker.say(\"Good, my boy!\")\r\n",
    "                speaker.runAndWait()\r\n",
    "        except sr.UnknownValueError:\r\n",
    "            r = sr.Recognizer()\r\n",
    "            speaker.say(\"Sorry, i don't understand what you are saying\")\r\n",
    "            speaker.runAndWait()"
   ],
   "outputs": [],
   "metadata": {}
  },
  {
   "cell_type": "code",
   "execution_count": null,
   "source": [
    "def giving_bunch():\r\n",
    "    global r\r\n",
    "\r\n",
    "    speaker.say(\"Do you want something sweet, baby?\")\r\n",
    "    speaker.runAndWait()\r\n",
    "\r\n",
    "    done = False\r\n",
    "\r\n",
    "    while not done:\r\n",
    "        try:\r\n",
    "            with sr.Microphone() as mic:\r\n",
    "                r.adjust_for_ambient_noise(mic, duration=0.2)\r\n",
    "                audio = r.listen(mic)\r\n",
    "\r\n",
    "                bunch = r.recognize_google(audio)\r\n",
    "                bunch = bunch.lower()\r\n",
    "\r\n",
    "                speaker.say(\"Roses are red, violets are blue, i love you\")\r\n",
    "                speaker.runAndWait()\r\n",
    "\r\n",
    "                r.adjust_for_ambient_noise(mic, duration=0.2)\r\n",
    "                audio = r.listen(mic)\r\n",
    "\r\n",
    "                bunch = r.recognize_google(audio)\r\n",
    "                bunch = bunch.lower()\r\n",
    "\r\n",
    "                speaker.say(\"You're wellcom, darling\")\r\n",
    "                speaker.runAndWait()\r\n",
    "        except sr.UnknownValueError:\r\n",
    "            r = sr.Recognizer()\r\n",
    "            speaker.say(\"Sorry, i don't understand\")\r\n",
    "            speaker.runAndWait()"
   ],
   "outputs": [],
   "metadata": {}
  },
  {
   "cell_type": "code",
   "execution_count": null,
   "source": [
    "def greetings():\r\n",
    "    speaker.say(\"Hello my lovely baby\")\r\n",
    "    speaker.runAndWait()"
   ],
   "outputs": [],
   "metadata": {}
  },
  {
   "cell_type": "code",
   "execution_count": null,
   "source": [
    "def out():\r\n",
    "    speaker.say(\"Bye bye, baby\")\r\n",
    "    speaker.runAndWait()\r\n",
    "    sys.exit(0)"
   ],
   "outputs": [],
   "metadata": {}
  },
  {
   "cell_type": "code",
   "execution_count": null,
   "source": [
    "mappings = {\r\n",
    "    \"greetings\": greetings,\r\n",
    "    \"news\": ask_news,\r\n",
    "    \"bunch\": giving_bunch,\r\n",
    "    \"exit\": out\r\n",
    "}\r\n",
    "\r\n",
    "assistant = GenericAssistant('words.json', intent_methods=mappings)\r\n",
    "assistant.train_model()\r\n",
    "\r\n",
    "while True:\r\n",
    "    try:\r\n",
    "        with sr.Microphone() as mic:\r\n",
    "            r.adjust_for_ambient_noise(mic, duration=0.2)\r\n",
    "            audio = r.listen(mic)\r\n",
    "\r\n",
    "            m = r.recognize_google(audio)\r\n",
    "            m = m.lower()\r\n",
    "\r\n",
    "        assistant.request(m)\r\n",
    "    except sr.UnknownValueError:\r\n",
    "        r = sr.Recognizer()"
   ],
   "outputs": [],
   "metadata": {}
  }
 ],
 "metadata": {
  "orig_nbformat": 4,
  "language_info": {
   "name": "python",
   "version": "3.8.2",
   "mimetype": "text/x-python",
   "codemirror_mode": {
    "name": "ipython",
    "version": 3
   },
   "pygments_lexer": "ipython3",
   "nbconvert_exporter": "python",
   "file_extension": ".py"
  },
  "kernelspec": {
   "name": "python3",
   "display_name": "Python 3.8.2 64-bit"
  },
  "interpreter": {
   "hash": "f23faf4bfe871c203c8bec80520af5927fc7cb1ae3bd834ddf554ee587ad1c05"
  }
 },
 "nbformat": 4,
 "nbformat_minor": 2
}
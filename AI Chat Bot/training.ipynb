{
 "cells": [
  {
   "cell_type": "code",
   "execution_count": null,
   "source": [
    "import nltk\r\n",
    "import pickle\r\n",
    "from tensorflow.keras.models import Sequential\r\n",
    "from tensorflow.keras.layers import Dense, Activation, Dropout\r\n",
    "from tensorflow.keras.optimizers import SGD\r\n",
    "import json\r\n",
    "import random\r\n",
    "from nltk.stem import WordNetLemmatizer\r\n",
    "import numpy as np"
   ],
   "outputs": [],
   "metadata": {}
  },
  {
   "cell_type": "code",
   "execution_count": null,
   "source": [
    "intents  = json.loads(open('intents.json').read())"
   ],
   "outputs": [],
   "metadata": {}
  },
  {
   "cell_type": "code",
   "execution_count": null,
   "source": [
    "lemmatizer = WordNetLemmatizer()"
   ],
   "outputs": [],
   "metadata": {}
  },
  {
   "cell_type": "code",
   "execution_count": null,
   "source": [
    "words = []\r\n",
    "classes = []\r\n",
    "documents = []\r\n",
    "ignore_letters = [\"!\", \"?\", \".\", \",\"]\r\n",
    "\r\n",
    "for intent in intents['intents']:\r\n",
    "    for pattern in intent['patterns']:\r\n",
    "        sent_list = nltk.sent_tokenize(pattern)\r\n",
    "        words.extend(sent_list)\r\n",
    "        documents.append((sent_list, intent['tag']))\r\n",
    "        if intent['tag'] not in classes:\r\n",
    "            classes.append(intent['tag'])\r\n",
    "\r\n",
    "words = [lemmatizer.lemmatize(word) for word in words if word not in ignore_letters]\r\n",
    "words = sorted(set(words))\r\n",
    "\r\n",
    "classes = sorted(set(classes))\r\n",
    "\r\n",
    "pickle.dump(words, open('word.pkl', 'wb'))\r\n",
    "pickle.dump(classes, open('classes.pkl', 'wb'))"
   ],
   "outputs": [],
   "metadata": {}
  },
  {
   "cell_type": "code",
   "execution_count": null,
   "source": [
    "training = []\r\n",
    "output_empty = [0] * len(classes)\r\n",
    "\r\n",
    "for document in documents:\r\n",
    "    bag = []\r\n",
    "    word_patterns = document[0]\r\n",
    "    word_patterns = [lemmatizer.lemmatize(word.lower()) for word in word_patterns]\r\n",
    "    for word in words:\r\n",
    "        bag.append(1) if word in word_patterns else bag.append(0)\r\n",
    "\r\n",
    "    output_row = list(output_empty)\r\n",
    "    output_row[classes.index(document[1])] = 1\r\n",
    "    training.append([bag, output_row])\r\n",
    "\r\n",
    "random.shuffle(training)\r\n",
    "training = np.array(training)\r\n",
    "\r\n",
    "train_x = list(training[:, 0])\r\n",
    "train_y = list(training[:, 1])\r\n",
    "\r\n",
    "model = Sequential()\r\n",
    "model.add(Dense(128, input_shape=(len(train_x[0]),), activation='relu'))\r\n",
    "model.add(Dropout(0.5))\r\n",
    "model.add(Dense(64, activation='relu'))\r\n",
    "model.add(Dropout(0.5))\r\n",
    "model.add(Dense(len(train_y[0]), activation='softmax'))\r\n",
    "\r\n",
    "sgd = SGD(lr=0.01, decay=1e-6, momentum=0.9, nesterov=True)\r\n",
    "model.compile(loss='categorical_crossentropy', optimizer=sgd, metrics=['accuracy'])\r\n",
    "\r\n",
    "model.fit(np.array(train_x), np.array(train_y), epochs=200, batch_size=5, verbose=1)\r\n",
    "model.save(\"ChatBot.model\")\r\n",
    "print(\"Done\")"
   ],
   "outputs": [],
   "metadata": {}
  }
 ],
 "metadata": {
  "orig_nbformat": 4,
  "language_info": {
   "name": "python",
   "version": "3.8.2",
   "mimetype": "text/x-python",
   "codemirror_mode": {
    "name": "ipython",
    "version": 3
   },
   "pygments_lexer": "ipython3",
   "nbconvert_exporter": "python",
   "file_extension": ".py"
  },
  "kernelspec": {
   "name": "python3",
   "display_name": "Python 3.8.2 64-bit"
  },
  "interpreter": {
   "hash": "f23faf4bfe871c203c8bec80520af5927fc7cb1ae3bd834ddf554ee587ad1c05"
  }
 },
 "nbformat": 4,
 "nbformat_minor": 2
}
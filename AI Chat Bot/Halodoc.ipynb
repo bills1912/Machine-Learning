{
 "cells": [
  {
   "cell_type": "code",
   "execution_count": 3,
   "source": [
    "from newspaper import Article\r\n",
    "import random\r\n",
    "import string\r\n",
    "import nltk\r\n",
    "from sklearn.feature_extraction.text import CountVectorizer\r\n",
    "from sklearn.metrics.pairwise import cosine_similarity\r\n",
    "import numpy as np\r\n",
    "import warnings\r\n",
    "warnings.filterwarnings('ignore')"
   ],
   "outputs": [],
   "metadata": {}
  },
  {
   "cell_type": "code",
   "execution_count": 4,
   "source": [
    "nltk.download('punkt', quiet=True)"
   ],
   "outputs": [
    {
     "output_type": "execute_result",
     "data": {
      "text/plain": [
       "True"
      ]
     },
     "metadata": {},
     "execution_count": 4
    }
   ],
   "metadata": {}
  },
  {
   "cell_type": "code",
   "execution_count": 18,
   "source": [
    "article = Article('https://www.halodoc.com/kesehatan/coronavirus')\r\n",
    "article.download()\r\n",
    "article.parse()\r\n",
    "article.nlp()\r\n",
    "covid = article.text"
   ],
   "outputs": [],
   "metadata": {}
  },
  {
   "cell_type": "code",
   "execution_count": 12,
   "source": [
    "text = covid\r\n",
    "list_kalimat = nltk.sent_tokenize(text)"
   ],
   "outputs": [],
   "metadata": {}
  },
  {
   "cell_type": "code",
   "execution_count": 19,
   "source": [
    "def balas_sapaan(text):\r\n",
    "    text = text.lower()\r\n",
    "\r\n",
    "    sapaan_bot = ['hallo', 'shalom', 'hai', \"ya'ahowu\"]\r\n",
    "    sapaan_user = ['hallo', 'hai', 'shalom']\r\n",
    "\r\n",
    "    for kata in text.split():\r\n",
    "        if kata in sapaan_user:\r\n",
    "            return random.choice(sapaan_bot)"
   ],
   "outputs": [],
   "metadata": {}
  },
  {
   "cell_type": "code",
   "execution_count": 20,
   "source": [
    "def urut_index(list_var):\r\n",
    "    length = len(list_var)\r\n",
    "    list_index = list(range(0, length))\r\n",
    "\r\n",
    "    x = list_var\r\n",
    "    for i in range(length):\r\n",
    "        for j in range(length):\r\n",
    "            if x[list_index[i]] > x[list_index[j]]:\r\n",
    "                temp = list_index[i]\r\n",
    "                list_index[i] = list_index[j]\r\n",
    "                list_index[j] = temp\r\n",
    "    return list_index"
   ],
   "outputs": [],
   "metadata": {}
  },
  {
   "cell_type": "code",
   "execution_count": 21,
   "source": [
    "def balas_bot(input_user):\r\n",
    "    input_user = input_user.lower()\r\n",
    "    list_kalimat.append(input_user)\r\n",
    "    balas_bot = ''\r\n",
    "    cm = CountVectorizer().fit_transform(list_kalimat)\r\n",
    "    nilai_kesamaan = cosine_similarity(cm[-1], cm)\r\n",
    "    list_nilai_kesamaan = nilai_kesamaan.flatten()\r\n",
    "    index = urut_index(list_nilai_kesamaan)\r\n",
    "    index = index[1:]\r\n",
    "    response_flag = 0\r\n",
    "\r\n",
    "    j = 0\r\n",
    "    for i in range(len(index)):\r\n",
    "        if list_nilai_kesamaan[index[i]] > 0.0:\r\n",
    "            balas_bot = balas_bot + ' ' + list_kalimat[index[i]]\r\n",
    "            response_flag = 1\r\n",
    "            j = j+1\r\n",
    "        if j > 2:\r\n",
    "            break\r\n",
    "    \r\n",
    "    if response_flag == 0:\r\n",
    "        balas_bot = balas_bot + ' ' + \"Maaf, jawaban tidak tersedia atau pertanyaan tidak valid\"\r\n",
    "    list_kalimat.remove(input_user)\r\n",
    "\r\n",
    "    return balas_bot"
   ],
   "outputs": [],
   "metadata": {}
  },
  {
   "cell_type": "code",
   "execution_count": 16,
   "source": [
    "print(\"HaloDoc bot: Halo. Selamat datang di halaman Halodoc. Silakan bertanya seputar covid.\")\r\n",
    "\r\n",
    "list_keluar = ['keluar', 'bye', 'quit']\r\n",
    "\r\n",
    "while(True):\r\n",
    "    user_input = input()\r\n",
    "    print(\"User:\", user_input)\r\n",
    "    if user_input.lower() in list_keluar:\r\n",
    "        print(\"HaloDoc bot: Sampai jumpa lagi!\")\r\n",
    "        break\r\n",
    "    else:\r\n",
    "        if balas_sapaan(user_input) != None:\r\n",
    "            print(\"HaloDoc bot:\", balas_sapaan(user_input))\r\n",
    "        else:\r\n",
    "            print(\"HaloDoc bot:\", balas_bot(user_input))"
   ],
   "outputs": [
    {
     "output_type": "stream",
     "name": "stdout",
     "text": [
      "HaloDoc bot: Halo. Selamat datang di halaman Halodoc. Silakan bertanya seputar covid.\n",
      "User: hallo\\\n",
      "HaloDoc bot:  Maaf, jawaban tidak tersedia atau pertanyaan tidak valid\n",
      "User: hallo\n",
      "HaloDoc bot: hai\n",
      "User: aklsdjfhklasdf\n",
      "HaloDoc bot:  Maaf, jawaban tidak tersedia atau pertanyaan tidak valid\n",
      "User: autoimun\n",
      "HaloDoc bot:  Baca juga: Kenali Lebih Jauh Tentang Penyakit Autoimun\n",
      "\n",
      "Penyebab Penyakit Autoimun\n",
      "\n",
      "Para ahli masih belum menemukan penyebab pasti dari penyakit autoimun sampai saat ini. Baca juga: Penyebab Gangguan Autoimun dan Cara Mencegahnya\n",
      "\n",
      "Gejala Penyakit Autoimun\n",
      "\n",
      "Seperti yang sudah dijelaskan sebelumnya, terdapat lebih dari 80 penyakit yang digolongkan sebagai penyakit autoimun. Baca Juga: Dari Ashanty hingga Duterte, Ini Diagnosis Penyakit Autoimun\n",
      "\n",
      "Pengobatan Penyakit Autoimun\n",
      "\n",
      "Sebagian besar penyakit autoimun belum dapat disembuhkan, tetapi gejala yang timbul bisa dijaga dan ditekan agar tidak timbul flare.\n",
      "User: keluar\n",
      "HaloDoc bot: Sampai jumpa lagi!\n"
     ]
    }
   ],
   "metadata": {}
  }
 ],
 "metadata": {
  "orig_nbformat": 4,
  "language_info": {
   "name": "python",
   "version": "3.8.2",
   "mimetype": "text/x-python",
   "codemirror_mode": {
    "name": "ipython",
    "version": 3
   },
   "pygments_lexer": "ipython3",
   "nbconvert_exporter": "python",
   "file_extension": ".py"
  },
  "kernelspec": {
   "name": "python3",
   "display_name": "Python 3.8.2 64-bit"
  },
  "interpreter": {
   "hash": "f23faf4bfe871c203c8bec80520af5927fc7cb1ae3bd834ddf554ee587ad1c05"
  }
 },
 "nbformat": 4,
 "nbformat_minor": 2
}
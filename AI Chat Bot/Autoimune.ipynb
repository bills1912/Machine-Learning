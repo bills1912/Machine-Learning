{
 "cells": [
  {
   "cell_type": "code",
   "execution_count": null,
   "source": [
    "from newspaper import Article\r\n",
    "import random\r\n",
    "import string\r\n",
    "from sklearn.feature_extraction.text import CountVectorizer\r\n",
    "from sklearn.metrics.pairwise import cosine_similarity\r\n",
    "import nltk\r\n",
    "import numpy as np\r\n",
    "import warnings\r\n",
    "warnings.filterwarnings('ignore')\r\n",
    "import speech_recognition as sr"
   ],
   "outputs": [],
   "metadata": {}
  },
  {
   "cell_type": "code",
   "execution_count": null,
   "source": [
    "nltk.download('punkt', quiet=True)"
   ],
   "outputs": [],
   "metadata": {}
  },
  {
   "cell_type": "code",
   "execution_count": null,
   "source": [
    "article = Article('https://www.halodoc.com/kesehatan/penyakit-autoimun')\r\n",
    "article.download()\r\n",
    "article.parse()\r\n",
    "article.nlp()\r\n",
    "autoimun = article.text"
   ],
   "outputs": [],
   "metadata": {}
  },
  {
   "cell_type": "code",
   "execution_count": null,
   "source": [
    "text = autoimun\r\n",
    "list_kalimat = nltk.sent_tokenize(text)"
   ],
   "outputs": [],
   "metadata": {}
  },
  {
   "cell_type": "code",
   "execution_count": null,
   "source": [
    "def sapaan_bot(text):\r\n",
    "    sapaan_bot = [\"Halo\", \"Hy\", \"Hello\", \"Mauliate\", \"Ya'ahowu\", \"Hai\", \"Wellcome\"]\r\n",
    "    sapaan_user = [\"Halo\", \"Hai\", \"Shalom\", \"Hello\", \"Hy\"]\r\n",
    "\r\n",
    "    for word in text.split():\r\n",
    "        if word in sapaan_user:\r\n",
    "            return random.choice(sapaan_bot)"
   ],
   "outputs": [],
   "metadata": {}
  },
  {
   "cell_type": "code",
   "execution_count": null,
   "source": [
    "def sort_index(var_list):\r\n",
    "    length = len(var_list)\r\n",
    "    list_index = list(range(0, length))\r\n",
    "\r\n",
    "    y = var_list\r\n",
    "    for a in range(length):\r\n",
    "        for b in range(length):\r\n",
    "            if y[list_index[a]] > y[list_index[b]]:\r\n",
    "                temp = list_index[a]\r\n",
    "                list_index[a] = list_index[b]\r\n",
    "                list_index[b] = temp\r\n",
    "    return list_index"
   ],
   "outputs": [],
   "metadata": {}
  },
  {
   "cell_type": "code",
   "execution_count": null,
   "source": [
    "def balas_bot(input_user):\r\n",
    "    list_kalimat.append(input_user)\r\n",
    "    balas_bot = ''\r\n",
    "    cm = CountVectorizer().fit_transform(list_kalimat)\r\n",
    "    nilai_kesamaan = cosine_similarity(cm[-1], cm)\r\n",
    "    list_nilai_kesamaan = nilai_kesamaan.flatten()\r\n",
    "    index = sort_index(list_nilai_kesamaan)\r\n",
    "    index = index[1:]\r\n",
    "    response_flag = 0\r\n",
    "\r\n",
    "    c = 0\r\n",
    "    for a in range(len(index)):\r\n",
    "        if list_nilai_kesamaan[index[a]] > 0.0:\r\n",
    "            balas_bot = balas_bot + ' ' + list_kalimat[index[a]]\r\n",
    "            response_flag = 1\r\n",
    "            c = c+1\r\n",
    "        if c > 2:\r\n",
    "            break\r\n",
    "    \r\n",
    "    if response_flag == 0:\r\n",
    "        balas_bot = balas_bot + ' ' + \"Maaf, jawaban tidak tersedia atau pertanyaan tidak valid\"\r\n",
    "    list_kalimat.remove(input_user)\r\n",
    "\r\n",
    "    return balas_bot"
   ],
   "outputs": [],
   "metadata": {}
  },
  {
   "cell_type": "code",
   "execution_count": null,
   "source": [
    "print(\"Halo. Silakan bertanya seputar autoimun.\")\r\n",
    "exit_sentence = [\"Keluar\", \"Exit\", \"Close\", \"Bye\", \"Selamat tinggal\"]\r\n",
    "\r\n",
    "while(True):\r\n",
    "    user_input = input().capitalize()\r\n",
    "    print(\"User:\", user_input.capitalize())\r\n",
    "    if user_input in exit_sentence:\r\n",
    "        print(\"HaloDoc bot: Sampai bertemu kembali!\")\r\n",
    "        break\r\n",
    "    else:\r\n",
    "        if sapaan_bot(user_input) != None:\r\n",
    "            print(\"HaloDoc bot:\", sapaan_bot(user_input))\r\n",
    "        else:\r\n",
    "            print(\"HaloDoc bot:\", balas_bot(user_input))"
   ],
   "outputs": [],
   "metadata": {}
  }
 ],
 "metadata": {
  "orig_nbformat": 4,
  "language_info": {
   "name": "python",
   "version": "3.8.2",
   "mimetype": "text/x-python",
   "codemirror_mode": {
    "name": "ipython",
    "version": 3
   },
   "pygments_lexer": "ipython3",
   "nbconvert_exporter": "python",
   "file_extension": ".py"
  },
  "kernelspec": {
   "name": "python3",
   "display_name": "Python 3.8.2 64-bit"
  },
  "interpreter": {
   "hash": "f23faf4bfe871c203c8bec80520af5927fc7cb1ae3bd834ddf554ee587ad1c05"
  }
 },
 "nbformat": 4,
 "nbformat_minor": 2
}
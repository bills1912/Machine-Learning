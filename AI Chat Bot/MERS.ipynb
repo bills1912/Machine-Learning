{
 "cells": [
  {
   "cell_type": "code",
   "execution_count": null,
   "source": [
    "from newspaper import Article\r\n",
    "from sklearn.feature_extraction.text import CountVectorizer\r\n",
    "from sklearn.metrics.pairwise import cosine_similarity\r\n",
    "import random\r\n",
    "import string\r\n",
    "import nltk\r\n",
    "from nltk.stem import WordNetLemmatizer\r\n",
    "import warnings\r\n",
    "import json\r\n",
    "import pickle\r\n",
    "import numpy as np\r\n",
    "from tensorflow.keras.models import load_model\r\n",
    "warnings.filterwarnings('ignore')"
   ],
   "outputs": [],
   "metadata": {}
  },
  {
   "cell_type": "code",
   "execution_count": null,
   "source": [
    "nltk.download('punkt', quiet=True)"
   ],
   "outputs": [],
   "metadata": {}
  },
  {
   "cell_type": "code",
   "execution_count": null,
   "source": [
    "article = Article('https://www.who.int/news-room/fact-sheets/detail/middle-east-respiratory-syndrome-coronavirus-(mers-cov)')\r\n",
    "article.download()\r\n",
    "article.parse()\r\n",
    "article.nlp()\r\n",
    "mers = article.text"
   ],
   "outputs": [],
   "metadata": {}
  },
  {
   "cell_type": "code",
   "execution_count": null,
   "source": [
    "text = mers\r\n",
    "list_kalimat = nltk.sent_tokenize(text)"
   ],
   "outputs": [],
   "metadata": {}
  },
  {
   "cell_type": "code",
   "execution_count": null,
   "source": [
    "lemmatizer = WordNetLemmatizer()"
   ],
   "outputs": [],
   "metadata": {}
  },
  {
   "cell_type": "code",
   "execution_count": null,
   "source": [
    "intents = json.loads(open('intents.json').read())"
   ],
   "outputs": [],
   "metadata": {}
  },
  {
   "cell_type": "code",
   "execution_count": null,
   "source": [
    "words  = pickle.load(open('word.pkl', 'rb'))\r\n",
    "classes  = pickle.load(open('classes.pkl', 'rb'))\r\n",
    "model  = load_model('ChatBot.model')"
   ],
   "outputs": [],
   "metadata": {}
  },
  {
   "cell_type": "code",
   "execution_count": null,
   "source": [
    "def clean_sent(sentence):\r\n",
    "    sent_words = nltk.word_tokenize(sentence)\r\n",
    "    sent_words = [lemmatizer.lemmatize(word) for word in sent_words]\r\n",
    "    return sent_words"
   ],
   "outputs": [],
   "metadata": {}
  },
  {
   "cell_type": "code",
   "execution_count": null,
   "source": [
    "def bag_words(sentence):\r\n",
    "    sent_words = clean_sent(sentence)\r\n",
    "    bag = [0] * len(words)\r\n",
    "    for w in sent_words:\r\n",
    "        for i, word in enumerate(words):\r\n",
    "            if word == w:\r\n",
    "                bag[i] = 1\r\n",
    "    return np.array(bag)"
   ],
   "outputs": [],
   "metadata": {}
  },
  {
   "cell_type": "code",
   "execution_count": null,
   "source": [
    "def predict_class(sentence):\r\n",
    "    bow = bag_words(sentence)\r\n",
    "    res = model.predict(np.array([bow]))[0]\r\n",
    "    ERR_TRES = 0.1\r\n",
    "    results = [[i, r] for i, r in enumerate(res) if r > ERR_TRES]\r\n",
    "\r\n",
    "    results.sort(key=lambda x: x[1], reverse=True)\r\n",
    "    return_list = []\r\n",
    "    for r in results:\r\n",
    "        return_list.append({'intent': classes[r[0]], 'probability': str(r[1])})\r\n",
    "    return return_list"
   ],
   "outputs": [],
   "metadata": {}
  },
  {
   "cell_type": "code",
   "execution_count": null,
   "source": [
    "def conv_bot(intents_list, intents_json):\r\n",
    "    tag = intents_list[0]['intent']\r\n",
    "    loi = intents_json['intents']\r\n",
    "    for i in loi:\r\n",
    "        if i['tag'] == tag:\r\n",
    "            result = random.choice(i['responses'])\r\n",
    "            break\r\n",
    "    return result"
   ],
   "outputs": [],
   "metadata": {}
  },
  {
   "cell_type": "code",
   "execution_count": null,
   "source": [
    "def sapa_bot(input_user):\r\n",
    "    bot_greet = [\"Hello\", \"Hy\", \"Hola\", \"Wellcome\", \"Shalom\", \"Bonjour\"]\r\n",
    "    user_greet = [\"Hello\", \"Hy\", \"Hi\", \"Hola\"]\r\n",
    "\r\n",
    "    for word in input_user.split():\r\n",
    "        if word in user_greet:\r\n",
    "            return random.choice(bot_greet)"
   ],
   "outputs": [],
   "metadata": {}
  },
  {
   "cell_type": "code",
   "execution_count": null,
   "source": [
    "def sort_index(var_list):\r\n",
    "    length = len(var_list)\r\n",
    "    list_index = list(range(0, length))\r\n",
    "\r\n",
    "    x = var_list\r\n",
    "    for i in range(length):\r\n",
    "        for j in range(length):\r\n",
    "            if x[list_index[i]] > x[list_index[j]]:\r\n",
    "                temp = list_index[i]\r\n",
    "                list_index[i] = list_index[j]\r\n",
    "                list_index[j] = temp\r\n",
    "    return list_index"
   ],
   "outputs": [],
   "metadata": {}
  },
  {
   "cell_type": "code",
   "execution_count": null,
   "source": [
    "def balasan_bot(user_input):\r\n",
    "    list_kalimat.append(user_input)\r\n",
    "    bot_resp = ''\r\n",
    "    cm = CountVectorizer().fit_transform(list_kalimat)\r\n",
    "    nilai_kesamaan = cosine_similarity(cm[-1], cm)\r\n",
    "    list_nilai_kesamaan = nilai_kesamaan.flatten()\r\n",
    "    index = sort_index(list_nilai_kesamaan)\r\n",
    "    index = index[1:]\r\n",
    "    response_flags = 0\r\n",
    "\r\n",
    "    f = 0\r\n",
    "    for i in range(len(index)):\r\n",
    "        if list_nilai_kesamaan[index[i]] > 0.0:\r\n",
    "            bot_resp = bot_resp + \" \" + list_kalimat[index[i]]\r\n",
    "            response_flags = 1\r\n",
    "            f += 1\r\n",
    "        if f > 2:\r\n",
    "            break\r\n",
    "\r\n",
    "    if response_flags == 0:\r\n",
    "        bot_resp = bot_resp + \" \" + \"Sorry, your question is invalid or the answer is unavailable\"\r\n",
    "    list_kalimat.remove(user_input)\r\n",
    "\r\n",
    "    return bot_resp"
   ],
   "outputs": [],
   "metadata": {}
  },
  {
   "cell_type": "code",
   "execution_count": null,
   "source": [
    "print(\"Wellcome to the UN WHO Site ABout MERS-CoV\")\r\n",
    "\r\n",
    "exit_sent = [\"Keluar\", \"Quit\", \"Exit\", \"Bye\"]\r\n",
    "\r\n",
    "while(True):\r\n",
    "    input_user = input().capitalize()\r\n",
    "    print(\"User:\", input_user)\r\n",
    "\r\n",
    "    if input_user in exit_sent:\r\n",
    "        print(\"Thank you for coming. See you soon!\")\r\n",
    "        break\r\n",
    "    else:\r\n",
    "        if sapa_bot(input_user) != None:\r\n",
    "            print(\"WHO Bot:\", sapa_bot(input_user))\r\n",
    "        else:\r\n",
    "            print(\"WHO Bot:\", balasan_bot(input_user))"
   ],
   "outputs": [],
   "metadata": {}
  }
 ],
 "metadata": {
  "orig_nbformat": 4,
  "language_info": {
   "name": "python",
   "version": "3.8.2",
   "mimetype": "text/x-python",
   "codemirror_mode": {
    "name": "ipython",
    "version": 3
   },
   "pygments_lexer": "ipython3",
   "nbconvert_exporter": "python",
   "file_extension": ".py"
  },
  "kernelspec": {
   "name": "python3",
   "display_name": "Python 3.8.2 64-bit"
  },
  "interpreter": {
   "hash": "f23faf4bfe871c203c8bec80520af5927fc7cb1ae3bd834ddf554ee587ad1c05"
  }
 },
 "nbformat": 4,
 "nbformat_minor": 2
}
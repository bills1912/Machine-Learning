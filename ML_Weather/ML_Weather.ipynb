{
 "metadata": {
  "language_info": {
   "codemirror_mode": {
    "name": "ipython",
    "version": 3
   },
   "file_extension": ".py",
   "mimetype": "text/x-python",
   "name": "python",
   "nbconvert_exporter": "python",
   "pygments_lexer": "ipython3",
   "version": "3.8.2"
  },
  "orig_nbformat": 4,
  "kernelspec": {
   "name": "python3",
   "display_name": "Python 3.8.2 64-bit"
  },
  "interpreter": {
   "hash": "f23faf4bfe871c203c8bec80520af5927fc7cb1ae3bd834ddf554ee587ad1c05"
  }
 },
 "nbformat": 4,
 "nbformat_minor": 2,
 "cells": [
  {
   "cell_type": "code",
   "execution_count": null,
   "source": [
    "# Importing Data\r\n",
    "import pandas as pd\r\n",
    "\r\n",
    "ds = pd.read_csv(\"weatherAUS.csv\")"
   ],
   "outputs": [],
   "metadata": {}
  },
  {
   "cell_type": "code",
   "execution_count": null,
   "source": [
    "# Handling Missing Value\r\n",
    "ds.fillna(ds.mean(), inplace = True)\r\n",
    "ds = ds.dropna()\r\n",
    "ds.isnull().sum().sum()"
   ],
   "outputs": [],
   "metadata": {}
  },
  {
   "cell_type": "code",
   "execution_count": null,
   "source": [
    "# Showing Top 10 of Data\r\n",
    "ds.head(30)"
   ],
   "outputs": [],
   "metadata": {}
  },
  {
   "cell_type": "code",
   "execution_count": null,
   "source": [
    "# Showing Statistics Description\r\n",
    "ds.describe(include='all')"
   ],
   "outputs": [],
   "metadata": {}
  },
  {
   "cell_type": "code",
   "execution_count": null,
   "source": [
    "# Variance and Standard Deviation of MinTemp\r\n",
    "min_temp_var = ds.loc[:, \"MinTemp\"].var()\r\n",
    "min_temp_std = ds.loc[:, \"MinTemp\"].std()\r\n",
    "print(min_temp_var)\r\n",
    "print(min_temp_std)"
   ],
   "outputs": [],
   "metadata": {}
  },
  {
   "cell_type": "code",
   "execution_count": null,
   "source": [
    "# Profiling Dataset\r\n",
    "from pandas_profiling import ProfileReport\r\n",
    "\r\n",
    "profile = ProfileReport(ds, \"Profile for Weather Dataset\", explorative=True)\r\n",
    "profile"
   ],
   "outputs": [],
   "metadata": {}
  },
  {
   "cell_type": "code",
   "execution_count": null,
   "source": [
    "# Making New Column\r\n",
    "import datetime\r\n",
    "\r\n",
    "ds['Month'] = ds['Date'].apply(lambda x: datetime.datetime.strptime(x, \"%Y-%m-%d\").strftime('%Y-%m'))\r\n",
    "ds['Year'] = ds['Date'].apply(lambda x: datetime.datetime.strptime(x, \"%Y-%m-%d\").strftime('%Y'))"
   ],
   "outputs": [],
   "metadata": {}
  },
  {
   "cell_type": "code",
   "execution_count": null,
   "source": [
    "# Visualize Between Date and MinTemp\r\n",
    "import matplotlib.pyplot as plt\r\n",
    "\r\n",
    "plt.figure(figsize=(13, 8))\r\n",
    "ds.groupby(['Year'])['MinTemp'].sum().plot(marker='.')\r\n",
    "plt.title(\"Date and Minimun Temperature in Australia\", fontsize=15)\r\n",
    "plt.xlabel(\"Date\", fontsize=10)\r\n",
    "plt.ylabel(\"Minimum Temperature\", fontsize=10)\r\n",
    "plt.ylim(ymax=200000)\r\n",
    "labels, locations = plt.yticks()\r\n",
    "plt.yticks(labels, (labels/1000).astype(int))\r\n",
    "plt.annotate('Temperature minimum tertinggi', xy=(9, 196000), xytext=(5, 125000),\r\n",
    "             weight='bold', color='red', arrowprops=dict(arrowstyle='fancy',\r\n",
    "                                                         connectionstyle=\"arc3\",\r\n",
    "                                                         color='red'))\r\n",
    "plt.grid(color='darkgray')\r\n",
    "plt.show()"
   ],
   "outputs": [],
   "metadata": {}
  },
  {
   "cell_type": "code",
   "execution_count": null,
   "source": [
    "# Encoding Label\r\n",
    "from sklearn.preprocessing import LabelEncoder\r\n",
    "LE = LabelEncoder()\r\n",
    "\r\n",
    "ds['WindGustDir'] = LE.fit_transform(ds['WindGustDir'])\r\n",
    "ds['RainToday'] = LE.fit_transform(ds['RainToday'])"
   ],
   "outputs": [],
   "metadata": {}
  },
  {
   "cell_type": "code",
   "execution_count": null,
   "source": [
    "# Rescale Data\r\n",
    "from sklearn.preprocessing import MinMaxScaler\r\n",
    "\r\n",
    "scaler = MinMaxScaler()\r\n",
    "scaler_column = ['MinTemp', 'MaxTemp', 'Rainfall', 'Evaporation', 'Sunshine', 'WindGustSpeed']\r\n",
    "ds[scaler_column] = scaler.fit_transform(ds[scaler_column])"
   ],
   "outputs": [],
   "metadata": {}
  },
  {
   "cell_type": "code",
   "execution_count": null,
   "source": [
    "# Building Training and Testing Dataset\r\n",
    "from sklearn.model_selection import train_test_split\r\n",
    "\r\n",
    "X = ds[['MinTemp', 'MaxTemp', 'Rainfall', 'Evaporation', 'Sunshine', 'WindGustSpeed', 'RainToday']]\r\n",
    "y = ds['RainTomorrow']\r\n",
    "\r\n",
    "X_train, X_test, y_train, y_test = train_test_split(X, y, test_size = 0.25, random_state = 0)"
   ],
   "outputs": [],
   "metadata": {}
  },
  {
   "cell_type": "code",
   "execution_count": null,
   "source": [
    "# Visualize Features Dataset Using Rank Features\r\n",
    "import matplotlib.pyplot as plt\r\n",
    "from yellowbrick.features import rank1d, rank2d\r\n",
    "\r\n",
    "y, axes = plt.subplots(ncols = 2, figsize = (15, 8))\r\n",
    "\r\n",
    "rank1d(X, ax = axes[0], show = False)\r\n",
    "rank2d(X, ax = axes[1], show = False)\r\n",
    "plt.show()"
   ],
   "outputs": [],
   "metadata": {}
  },
  {
   "cell_type": "code",
   "execution_count": null,
   "source": [
    "# Visualize Features Using Parallel Coordinates\r\n",
    "from yellowbrick.features import ParallelCoordinates\r\n",
    "\r\n",
    "features = ['MinTemp', 'MaxTemp', 'Rainfall', 'Evaporation', 'Sunshine', 'WindGustSpeed', 'RainToday']\r\n",
    "classes = [\"Yes\", \"No\"]\r\n",
    "\r\n",
    "vis = ParallelCoordinates(classes=classes, features=features, sample=0.1, shuffle=True)\r\n",
    "\r\n",
    "vis.fit_transform(X, y)\r\n",
    "vis.show()"
   ],
   "outputs": [],
   "metadata": {}
  },
  {
   "cell_type": "code",
   "execution_count": null,
   "source": [
    "# Visualize Features Using Biplot PCA\r\n",
    "from sklearn.preprocessing import LabelEncoder\r\n",
    "from yellowbrick.features import PCA\r\n",
    "\r\n",
    "y_encode = LabelEncoder().fit_transform(y)\r\n",
    "\r\n",
    "vis = PCA(scale=True, proj_features=True)\r\n",
    "vis.fit_transform(X, y_encode)\r\n",
    "vis.show(outpath=\"PCA.png\")"
   ],
   "outputs": [],
   "metadata": {}
  },
  {
   "cell_type": "code",
   "execution_count": null,
   "source": [
    "# Visualize Class Balance\r\n",
    "from yellowbrick.target import ClassBalance\r\n",
    "\r\n",
    "vis = ClassBalance(labels=[\"Yes\", \"No\"])\r\n",
    "\r\n",
    "vis.fit(y_train, y_test)\r\n",
    "vis.show()"
   ],
   "outputs": [],
   "metadata": {}
  },
  {
   "cell_type": "code",
   "execution_count": null,
   "source": [
    "# Build Machine Learning Model\r\n",
    "# 1. Logistic Regression\r\n",
    "from sklearn.linear_model import LogisticRegression\r\n",
    "\r\n",
    "lg = LogisticRegression()\r\n",
    "lg = lg.fit(X_train, y_train)\r\n",
    "\r\n",
    "y_pred_lg = lg.predict(X_test)"
   ],
   "outputs": [],
   "metadata": {}
  },
  {
   "cell_type": "code",
   "execution_count": null,
   "source": [
    "# 2. K Nearest Neighbors\r\n",
    "from sklearn.neighbors import KNeighborsClassifier\r\n",
    "\r\n",
    "KNC = KNeighborsClassifier()\r\n",
    "KNC = KNC.fit(X_train, y_train)\r\n",
    "\r\n",
    "y_pred_KNC = KNC.predict(X_test)"
   ],
   "outputs": [],
   "metadata": {}
  },
  {
   "cell_type": "code",
   "execution_count": null,
   "source": [
    "# 3. Decision Tree Model\r\n",
    "from sklearn.tree import DecisionTreeClassifier\r\n",
    "\r\n",
    "dtc = DecisionTreeClassifier()\r\n",
    "dtc = dtc.fit(X_train, y_train)\r\n",
    "\r\n",
    "y_pred_dtc = dtc.predict(X_test)"
   ],
   "outputs": [],
   "metadata": {}
  },
  {
   "cell_type": "code",
   "execution_count": null,
   "source": [
    "# 4. Random Forest\r\n",
    "from sklearn.ensemble import RandomForestClassifier\r\n",
    "\r\n",
    "rfc = RandomForestClassifier(n_jobs = 2)\r\n",
    "rfc = rfc.fit(X_train, y_train)\r\n",
    "\r\n",
    "y_pred_rfc = rfc.predict(X_test)"
   ],
   "outputs": [],
   "metadata": {}
  },
  {
   "cell_type": "code",
   "execution_count": null,
   "source": [
    "# 5. Support Vector Machine\r\n",
    "from sklearn.svm import SVC\r\n",
    "\r\n",
    "svc = SVC(kernel = \"linear\", C = 1)\r\n",
    "svc = svc.fit(X_train, y_train)\r\n",
    "\r\n",
    "y_pred_svc = svc.predict(X_test)"
   ],
   "outputs": [],
   "metadata": {}
  },
  {
   "cell_type": "code",
   "execution_count": null,
   "source": [
    "# Checking Accuracy Score For Each Model\r\n",
    "# For Logistic Regression Model\r\n",
    "print(\"Logistic Regression model score for Training dataset:\", lg.score(X_train, y_train))\r\n",
    "print(\"Logistic Regression model score for Testing dataset:\", lg.score(X_test, y_test))\r\n",
    "print(\"\")\r\n",
    "\r\n",
    "# For K Nearest Neighbors Model\r\n",
    "print(\"K Nearest Neighbors model score for Training dataset:\", KNC.score(X_train, y_train))\r\n",
    "print(\"K Nearest Neighbors model score for Testing dataset:\", KNC.score(X_test, y_test))\r\n",
    "print(\"\")\r\n",
    "\r\n",
    "# For Decision Tree Model\r\n",
    "print(\"Decision Tree model score for Training dataset:\", dtc.score(X_train, y_train))\r\n",
    "print(\"Decision Tree model score for Testing dataset:\", dtc.score(X_test, y_test))\r\n",
    "print(\"\")\r\n",
    "\r\n",
    "# For Random Forest Model\r\n",
    "print(\"Random Forest model score for Training dataset:\", rfc.score(X_train, y_train))\r\n",
    "print(\"Random Forest model score for Testing dataset:\", rfc.score(X_test, y_test))\r\n",
    "print(\"\")\r\n",
    "\r\n",
    "# For Support Vector Machine Model\r\n",
    "print(\"Supprot Vector Machine (Clasification) model score for Training dataset:\", svc.score(X_train, y_train))\r\n",
    "print(\"Supprot Vector Machine (Clasification) model score for Testing dataset:\", svc.score(X_test, y_test))"
   ],
   "outputs": [],
   "metadata": {}
  },
  {
   "cell_type": "code",
   "execution_count": null,
   "source": [
    "# Visualize Confusion Matrix\r\n",
    "from yellowbrick.classifier import ConfusionMatrix\r\n",
    "\r\n",
    "cm = ConfusionMatrix(rfc, classes = [\"Yes\", \"No\"])\r\n",
    "cm.fit(X_train, y_train)\r\n",
    "cm.score(X_test, y_test)\r\n",
    "cm.show()"
   ],
   "outputs": [],
   "metadata": {}
  },
  {
   "cell_type": "code",
   "execution_count": null,
   "source": [
    "# Visualize Classification Report\r\n",
    "from yellowbrick.classifier import ClassificationReport\r\n",
    "\r\n",
    "cr = ClassificationReport(rfc, classes = [\"Yes\", \"No\"], support = True)\r\n",
    "cr.fit(X_train, y_train)\r\n",
    "cr.score(X_test, y_test)\r\n",
    "cr.show()"
   ],
   "outputs": [],
   "metadata": {}
  },
  {
   "cell_type": "code",
   "execution_count": null,
   "source": [
    "# Visualize Error Analysis\r\n",
    "from yellowbrick.classifier import ClassPredictionError\r\n",
    "\r\n",
    "vis = ClassPredictionError(rfc)\r\n",
    "\r\n",
    "vis.fit(X_train, y_train)\r\n",
    "vis.score(X_test, y_test)\r\n",
    "vis.show()"
   ],
   "outputs": [],
   "metadata": {}
  },
  {
   "cell_type": "code",
   "execution_count": null,
   "source": [
    "# Visualize The Random Forest Tree\r\n",
    "from sklearn.ensemble import RandomForestClassifier\r\n",
    "from sklearn.tree import plot_tree\r\n",
    "import matplotlib.pyplot as plt\r\n",
    "\r\n",
    "rfc_vis = RandomForestClassifier(n_jobs=2, max_depth=3)\r\n",
    "rfc_vis = rfc_vis.fit(X_train, y_train)\r\n",
    "\r\n",
    "plt.rcParams['figure.figsize'] = (15, 13)\r\n",
    "_ = plot_tree(rfc_vis.estimators_[0], feature_names=X.columns, filled=True)"
   ],
   "outputs": [],
   "metadata": {}
  },
  {
   "cell_type": "code",
   "execution_count": null,
   "source": [
    "# Predict New Dataset Using The Best Model (Radom Forest)\r\n",
    "new_dataset = [[0.4, 0.6, 0.9, 0.73, 0.45, 0.54, 0],\r\n",
    "                [0.5, 0.56, 0.3, 0.5, 0.8, 0.55, 1]]\r\n",
    "\r\n",
    "rfc.predict(new_dataset)"
   ],
   "outputs": [],
   "metadata": {}
  },
  {
   "cell_type": "code",
   "execution_count": null,
   "source": [
    "# Visualize Feature Importances\r\n",
    "from yellowbrick.model_selection import FeatureImportances\r\n",
    "\r\n",
    "vis = FeatureImportances(rfc)\r\n",
    "\r\n",
    "vis.fit(X, y)\r\n",
    "vis.show(\"Feature-Importances.png\")"
   ],
   "outputs": [],
   "metadata": {}
  }
 ]
}
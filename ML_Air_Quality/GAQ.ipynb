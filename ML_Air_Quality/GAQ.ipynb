{
 "cells": [
  {
   "cell_type": "code",
   "execution_count": null,
   "source": [
    "import pandas as pd\r\n",
    "\r\n",
    "gaq = pd.read_csv('global_air_quality_4000rows.csv')\r\n",
    "print(gaq.head())"
   ],
   "outputs": [],
   "metadata": {}
  },
  {
   "cell_type": "code",
   "execution_count": null,
   "source": [
    "gaq = gaq.fillna(gaq.mean())\r\n",
    "gaq = gaq.dropna()"
   ],
   "outputs": [],
   "metadata": {}
  },
  {
   "cell_type": "code",
   "execution_count": null,
   "source": [
    "gaq.describe(include='all')"
   ],
   "outputs": [],
   "metadata": {}
  },
  {
   "cell_type": "code",
   "execution_count": null,
   "source": [
    "gaq_multi = gaq.groupby('country').agg(['mean','median','std'])\r\n",
    "print(gaq_multi.head(10))"
   ],
   "outputs": [],
   "metadata": {}
  },
  {
   "cell_type": "code",
   "execution_count": null,
   "source": [
    "gaq['timestamp'] = pd.to_datetime(gaq['timestamp'])\r\n",
    "gaq = gaq.set_index('timestamp')"
   ],
   "outputs": [],
   "metadata": {}
  },
  {
   "cell_type": "code",
   "execution_count": null,
   "source": [
    "vis = gaq[['pollutant','value']].reset_index().set_index(['timestamp','pollutant'])\r\n",
    "vis = vis.pivot_table(index='timestamp', columns='pollutant', aggfunc='mean').fillna(0)\r\n",
    "vis.columns = vis.columns.droplevel(0)\r\n",
    "print(vis.head())"
   ],
   "outputs": [],
   "metadata": {}
  },
  {
   "cell_type": "code",
   "execution_count": null,
   "source": [
    "def def_value(value):\r\n",
    "    if value < 0:\r\n",
    "        return 0\r\n",
    "    else:\r\n",
    "        return value\r\n",
    "\r\n",
    "gaq_vis = vis.resample('2W').mean().ffill().applymap(lambda x: def_value(x)).apply(lambda x: x/x.max())"
   ],
   "outputs": [],
   "metadata": {}
  },
  {
   "cell_type": "code",
   "execution_count": null,
   "source": [
    "import matplotlib.pyplot as plt\r\n",
    "\r\n",
    "gaq_vis.plot(\r\n",
    "    figsize=(10, 10),\r\n",
    "    title=\"Rata-Rata Tingkat Polusi per Tahun\",\r\n",
    "    ylim=(0, 1.25),\r\n",
    "    subplots=True\r\n",
    ")\r\n",
    "\r\n",
    "plt.xlabel('Tahun')\r\n",
    "plt.ylabel('Rata-Rata per Tahun (%)')\r\n",
    "plt.show()"
   ],
   "outputs": [],
   "metadata": {}
  }
 ],
 "metadata": {
  "orig_nbformat": 4,
  "language_info": {
   "name": "python",
   "version": "3.8.2",
   "mimetype": "text/x-python",
   "codemirror_mode": {
    "name": "ipython",
    "version": 3
   },
   "pygments_lexer": "ipython3",
   "nbconvert_exporter": "python",
   "file_extension": ".py"
  },
  "kernelspec": {
   "name": "python3",
   "display_name": "Python 3.8.2 64-bit"
  },
  "interpreter": {
   "hash": "f23faf4bfe871c203c8bec80520af5927fc7cb1ae3bd834ddf554ee587ad1c05"
  }
 },
 "nbformat": 4,
 "nbformat_minor": 2
}
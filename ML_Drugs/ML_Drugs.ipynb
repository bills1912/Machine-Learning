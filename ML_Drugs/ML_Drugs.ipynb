{
 "metadata": {
  "language_info": {
   "codemirror_mode": {
    "name": "ipython",
    "version": 3
   },
   "file_extension": ".py",
   "mimetype": "text/x-python",
   "name": "python",
   "nbconvert_exporter": "python",
   "pygments_lexer": "ipython3",
   "version": "3.8.2"
  },
  "orig_nbformat": 4,
  "kernelspec": {
   "name": "python3",
   "display_name": "Python 3.8.2 64-bit"
  },
  "interpreter": {
   "hash": "f23faf4bfe871c203c8bec80520af5927fc7cb1ae3bd834ddf554ee587ad1c05"
  }
 },
 "nbformat": 4,
 "nbformat_minor": 2,
 "cells": [
  {
   "cell_type": "code",
   "execution_count": null,
   "source": [
    "import pandas as pd\r\n",
    "import numpy as np\r\n",
    "import seaborn as sns\r\n",
    "import matplotlib.pyplot as plt\r\n",
    "from sklearn.preprocessing import MinMaxScaler, StandardScaler, LabelEncoder\r\n",
    "from category_encoders import OrdinalEncoder\r\n",
    "from sklearn.metrics import accuracy_score\r\n",
    "from sklearn.feature_selection import SelectKBest, chi2\r\n",
    "from sklearn.model_selection import train_test_split, GridSearchCV, cross_validate"
   ],
   "outputs": [],
   "metadata": {}
  },
  {
   "cell_type": "code",
   "execution_count": null,
   "source": [
    "dataset = pd.read_csv(\"drug200.csv\")"
   ],
   "outputs": [],
   "metadata": {}
  },
  {
   "cell_type": "code",
   "execution_count": null,
   "source": [
    "dataset.isnull().sum()"
   ],
   "outputs": [],
   "metadata": {}
  },
  {
   "cell_type": "code",
   "execution_count": null,
   "source": [
    "dataset.head()"
   ],
   "outputs": [],
   "metadata": {}
  },
  {
   "cell_type": "code",
   "execution_count": null,
   "source": [
    "dataset.describe(include=\"all\")"
   ],
   "outputs": [],
   "metadata": {}
  },
  {
   "cell_type": "code",
   "execution_count": null,
   "source": [
    "plt.figure(figsize=(20, 10))\r\n",
    "sns.heatmap(dataset.drop('Drug', axis=1), annot=True)\r\n",
    "plt.show()"
   ],
   "outputs": [],
   "metadata": {}
  },
  {
   "cell_type": "code",
   "execution_count": null,
   "source": [
    "ds_idx = dataset.set_index([\"Na_to_K\", \"Age\", \"Drug\"])\r\n",
    "\r\n",
    "for name, level in zip(ds_idx.index.names, ds_idx.index.levels):\r\n",
    "    print(name,\":\",level)"
   ],
   "outputs": [],
   "metadata": {}
  },
  {
   "cell_type": "code",
   "execution_count": null,
   "source": [
    "dataset.info()"
   ],
   "outputs": [],
   "metadata": {}
  },
  {
   "cell_type": "code",
   "execution_count": null,
   "source": [
    "idx_slice = dataset.set_index([\"Sex\", \"BP\"])\r\n",
    "idx = pd.IndexSlice\r\n",
    "\r\n",
    "idx_slice.sort_index().loc[idx[\"M\", \"HIGH\"], :]"
   ],
   "outputs": [],
   "metadata": {}
  },
  {
   "cell_type": "code",
   "execution_count": null,
   "source": [
    "print(dataset.groupby('BP').count())\r\n",
    "print(dataset.groupby('Cholesterol').count())"
   ],
   "outputs": [],
   "metadata": {}
  },
  {
   "cell_type": "code",
   "execution_count": null,
   "source": [
    "LE = LabelEncoder()\r\n",
    "dataset['Sex'] = LE.fit_transform(dataset['Sex'])"
   ],
   "outputs": [],
   "metadata": {}
  },
  {
   "cell_type": "code",
   "execution_count": null,
   "source": [
    "dict_bp = [{'col': 'BP', 'mapping': {'LOW': 1, 'NORMAL': 2, 'HIGH': 3}}]\r\n",
    "\r\n",
    "oe_bp = OrdinalEncoder(cols='BP', mapping=dict_bp)\r\n",
    "dataset = oe_bp.fit_transform(dataset)"
   ],
   "outputs": [],
   "metadata": {}
  },
  {
   "cell_type": "code",
   "execution_count": null,
   "source": [
    "dict_chol = [{'col': 'Cholesterol', 'mapping': {'NORMAL': 1, 'HIGH': 2}}]\r\n",
    "\r\n",
    "oe_chol = OrdinalEncoder(cols='BP', mapping=dict_chol)\r\n",
    "dataset = oe_chol.fit_transform(dataset)"
   ],
   "outputs": [],
   "metadata": {}
  },
  {
   "cell_type": "code",
   "execution_count": null,
   "source": [
    "dataset[['Na_to_K']] = MinMaxScaler().fit_transform(dataset[['Na_to_K']])"
   ],
   "outputs": [],
   "metadata": {}
  },
  {
   "cell_type": "code",
   "execution_count": null,
   "source": [
    "X_raw = dataset.drop('Drug', axis=1)\r\n",
    "y_raw = dataset['Drug']\r\n",
    "\r\n",
    "X_train, X_test, y_train, y_test = train_test_split(X_raw, y_raw, test_size=0.25, random_state=0)"
   ],
   "outputs": [],
   "metadata": {}
  },
  {
   "cell_type": "code",
   "execution_count": null,
   "source": [
    "from sklearn.tree import DecisionTreeClassifier\r\n",
    "\r\n",
    "dtc = DecisionTreeClassifier()\r\n",
    "dtc.get_params()"
   ],
   "outputs": [],
   "metadata": {}
  },
  {
   "cell_type": "code",
   "execution_count": null,
   "source": [
    "from sklearn.naive_bayes import GaussianNB\r\n",
    "\r\n",
    "gauss = GaussianNB()\r\n",
    "gauss.get_params()"
   ],
   "outputs": [],
   "metadata": {}
  },
  {
   "cell_type": "code",
   "execution_count": null,
   "source": [
    "grid = GridSearchCV(gauss, param_grid=dict(var_smoothing=np.logspace(-9, -1, 10)), n_jobs=-1)\r\n",
    "model = grid.fit(X_train, y_train)"
   ],
   "outputs": [],
   "metadata": {}
  },
  {
   "cell_type": "code",
   "execution_count": null,
   "source": [
    "prediction = model.predict(X_test)"
   ],
   "outputs": [],
   "metadata": {}
  },
  {
   "cell_type": "code",
   "execution_count": 101,
   "source": [
    "X_test.head()"
   ],
   "outputs": [
    {
     "output_type": "execute_result",
     "data": {
      "text/html": [
       "<div>\n",
       "<style scoped>\n",
       "    .dataframe tbody tr th:only-of-type {\n",
       "        vertical-align: middle;\n",
       "    }\n",
       "\n",
       "    .dataframe tbody tr th {\n",
       "        vertical-align: top;\n",
       "    }\n",
       "\n",
       "    .dataframe thead th {\n",
       "        text-align: right;\n",
       "    }\n",
       "</style>\n",
       "<table border=\"1\" class=\"dataframe\">\n",
       "  <thead>\n",
       "    <tr style=\"text-align: right;\">\n",
       "      <th></th>\n",
       "      <th>Age</th>\n",
       "      <th>Sex</th>\n",
       "      <th>BP</th>\n",
       "      <th>Cholesterol</th>\n",
       "      <th>Na_to_K</th>\n",
       "    </tr>\n",
       "  </thead>\n",
       "  <tbody>\n",
       "    <tr>\n",
       "      <th>18</th>\n",
       "      <td>23</td>\n",
       "      <td>1</td>\n",
       "      <td>1</td>\n",
       "      <td>2</td>\n",
       "      <td>0.032178</td>\n",
       "    </tr>\n",
       "    <tr>\n",
       "      <th>170</th>\n",
       "      <td>28</td>\n",
       "      <td>0</td>\n",
       "      <td>2</td>\n",
       "      <td>2</td>\n",
       "      <td>0.206705</td>\n",
       "    </tr>\n",
       "    <tr>\n",
       "      <th>107</th>\n",
       "      <td>42</td>\n",
       "      <td>1</td>\n",
       "      <td>1</td>\n",
       "      <td>2</td>\n",
       "      <td>0.429795</td>\n",
       "    </tr>\n",
       "    <tr>\n",
       "      <th>98</th>\n",
       "      <td>20</td>\n",
       "      <td>1</td>\n",
       "      <td>3</td>\n",
       "      <td>1</td>\n",
       "      <td>0.918444</td>\n",
       "    </tr>\n",
       "    <tr>\n",
       "      <th>177</th>\n",
       "      <td>25</td>\n",
       "      <td>1</td>\n",
       "      <td>2</td>\n",
       "      <td>2</td>\n",
       "      <td>0.398461</td>\n",
       "    </tr>\n",
       "  </tbody>\n",
       "</table>\n",
       "</div>"
      ],
      "text/plain": [
       "     Age  Sex  BP  Cholesterol   Na_to_K\n",
       "18    23    1   1            2  0.032178\n",
       "170   28    0   2            2  0.206705\n",
       "107   42    1   1            2  0.429795\n",
       "98    20    1   3            1  0.918444\n",
       "177   25    1   2            2  0.398461"
      ]
     },
     "metadata": {},
     "execution_count": 101
    }
   ],
   "metadata": {}
  },
  {
   "cell_type": "code",
   "execution_count": null,
   "source": [
    "acc = accuracy_score(prediction, y_test)\r\n",
    "print(\"Score model: {}\".format(acc))"
   ],
   "outputs": [],
   "metadata": {}
  },
  {
   "cell_type": "code",
   "execution_count": null,
   "source": [
    "scores = cross_validate(model, X_raw, y_raw, cv=5, scoring='accuracy')\r\n",
    "scores"
   ],
   "outputs": [],
   "metadata": {}
  },
  {
   "cell_type": "code",
   "execution_count": null,
   "source": [
    "from yellowbrick.classifier import ConfusionMatrix\r\n",
    "\r\n",
    "cm = ConfusionMatrix(model)\r\n",
    "cm.fit(X_train, y_train)\r\n",
    "cm.score(X_test, y_test)\r\n",
    "cm.show()"
   ],
   "outputs": [],
   "metadata": {}
  },
  {
   "cell_type": "code",
   "execution_count": null,
   "source": [
    "from yellowbrick.classifier import ClassificationReport\r\n",
    "\r\n",
    "cr = ClassificationReport(model, support=True)\r\n",
    "cr.fit(X_train, y_train)\r\n",
    "cr.score(X_test, y_test)\r\n",
    "cr.show()"
   ],
   "outputs": [],
   "metadata": {}
  },
  {
   "cell_type": "code",
   "execution_count": 113,
   "source": [
    "new_dataset = np.array([61, 1, 1, 2, 0.9])\r\n",
    "\r\n",
    "dtc.predict(new_dataset.reshape(1, -1))"
   ],
   "outputs": [
    {
     "output_type": "execute_result",
     "data": {
      "text/plain": [
       "array(['DrugY'], dtype=object)"
      ]
     },
     "metadata": {},
     "execution_count": 113
    }
   ],
   "metadata": {}
  }
 ]
}